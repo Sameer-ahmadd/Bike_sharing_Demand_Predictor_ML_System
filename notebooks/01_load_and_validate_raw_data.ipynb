{
 "cells": [
  {
   "cell_type": "code",
   "execution_count": 1,
   "metadata": {},
   "outputs": [],
   "source": [
    "from pathlib import Path\n",
    "import requests\n",
    "import zipfile\n",
    "import pandas as pd\n",
    "import pyarrow.parquet as pq\n",
    "\n",
    "def download_one_file_of_raw_data(year: int) -> Path:\n",
    "    \"\"\"\"\"\"\n",
    "    URL = f'https://cdn.buenosaires.gob.ar/datosabiertos/datasets/transporte-y-obras-publicas/bicicletas-publicas/recorridos-realizados-{year}.zip'\n",
    "    response= requests.get(URL) #, stream=True)\n",
    "\n",
    "    \n",
    "    if response.status_code == 200:\n",
    "        \n",
    "        path = f'../data/raw/recorridos-realizados-{year}.zip'\n",
    "        open(path, \"wb\").write(response.content)     \n",
    "        print(f'descargado año {year}')\n",
    "\n",
    "        return path\n",
    "    else:\n",
    "        raise Exception(f'{URL} is not available')"
   ]
  },
  {
   "cell_type": "code",
   "execution_count": 2,
   "metadata": {},
   "outputs": [],
   "source": [
    "import pyarrow as pa\n",
    "\n",
    "def unzip_and_convert_csv_to_parquet(year: int) -> Path:\n",
    "    nombre_archivo_zip = f\"../data/raw/recorridos-realizados-{year}.zip\"\n",
    "        # Unzip the zip file\n",
    "    with zipfile.ZipFile(nombre_archivo_zip, 'r') as archivo_zip:\n",
    "\n",
    "        # Extract the CSV file from zip\n",
    "        nombre_archivo_csv = archivo_zip.namelist()[0]  # \n",
    "        archivo_zip.extractall(f\"../data/raw/\")\n",
    "\n",
    "        # Convert the DataFrame to Parquet dataframe\n",
    "        df = pd.read_csv(f\"../data/raw/{nombre_archivo_csv}\", delimiter=',', decimal=\".\")\n",
    "\n",
    "        \n",
    "        nombre_archivo_parquet = f\"rides_{year}.parquet\"\n",
    "        table = pa.Table.from_pandas(df)\n",
    "        pq.write_table(table, f\"../data/raw/{nombre_archivo_parquet}\")\n",
    "\n",
    "        path = f'../data/raw/rides_{year}.parquet'\n",
    "    return path"
   ]
  },
  {
   "cell_type": "code",
   "execution_count": 27,
   "metadata": {},
   "outputs": [
    {
     "name": "stdout",
     "output_type": "stream",
     "text": [
      "descargado año 2022\n"
     ]
    },
    {
     "data": {
      "text/plain": [
       "'../data/raw/recorridos-realizados-2022.zip'"
      ]
     },
     "execution_count": 27,
     "metadata": {},
     "output_type": "execute_result"
    }
   ],
   "source": [
    "download_one_file_of_raw_data(year=2022)"
   ]
  },
  {
   "cell_type": "code",
   "execution_count": 3,
   "metadata": {},
   "outputs": [
    {
     "data": {
      "text/plain": [
       "'../data/raw/rides_2022.parquet'"
      ]
     },
     "execution_count": 3,
     "metadata": {},
     "output_type": "execute_result"
    }
   ],
   "source": [
    "unzip_and_convert_csv_to_parquet(year=2022)"
   ]
  },
  {
   "cell_type": "code",
   "execution_count": 5,
   "metadata": {},
   "outputs": [],
   "source": [
    "import pandas as pd\n",
    "rides = pd.read_parquet(\"../data/raw/rides_2022.parquet\")"
   ]
  },
  {
   "cell_type": "code",
   "execution_count": 7,
   "metadata": {},
   "outputs": [
    {
     "data": {
      "text/html": [
       "<div>\n",
       "<style scoped>\n",
       "    .dataframe tbody tr th:only-of-type {\n",
       "        vertical-align: middle;\n",
       "    }\n",
       "\n",
       "    .dataframe tbody tr th {\n",
       "        vertical-align: top;\n",
       "    }\n",
       "\n",
       "    .dataframe thead th {\n",
       "        text-align: right;\n",
       "    }\n",
       "</style>\n",
       "<table border=\"1\" class=\"dataframe\">\n",
       "  <thead>\n",
       "    <tr style=\"text-align: right;\">\n",
       "      <th></th>\n",
       "      <th>Unnamed: 0</th>\n",
       "      <th>X</th>\n",
       "      <th>Id_recorrido</th>\n",
       "      <th>duracion_recorrido</th>\n",
       "      <th>fecha_origen_recorrido</th>\n",
       "      <th>id_estacion_origen</th>\n",
       "      <th>nombre_estacion_origen</th>\n",
       "      <th>direccion_estacion_origen</th>\n",
       "      <th>long_estacion_origen</th>\n",
       "      <th>lat_estacion_origen</th>\n",
       "      <th>fecha_destino_recorrido</th>\n",
       "      <th>id_estacion_destino</th>\n",
       "      <th>nombre_estacion_destino</th>\n",
       "      <th>direccion_estacion_destino</th>\n",
       "      <th>long_estacion_destino</th>\n",
       "      <th>lat_estacion_destino</th>\n",
       "      <th>id_usuario</th>\n",
       "      <th>modelo_bicicleta</th>\n",
       "      <th>Género</th>\n",
       "    </tr>\n",
       "  </thead>\n",
       "  <tbody>\n",
       "    <tr>\n",
       "      <th>0</th>\n",
       "      <td>1</td>\n",
       "      <td>1</td>\n",
       "      <td>13267975BAEcobici</td>\n",
       "      <td>2,610</td>\n",
       "      <td>2022-01-16 14:58:42</td>\n",
       "      <td>5BAEcobici</td>\n",
       "      <td>005 - Plaza Italia</td>\n",
       "      <td>Av. Sarmiento 2601</td>\n",
       "      <td>-58.420954</td>\n",
       "      <td>-34.580550</td>\n",
       "      <td>2022-01-16 15:42:12</td>\n",
       "      <td>210BAEcobici</td>\n",
       "      <td>335 - General Urquiza</td>\n",
       "      <td>Figueroa Alcorta &amp; Sarmiento</td>\n",
       "      <td>-58.411278</td>\n",
       "      <td>-34.572165</td>\n",
       "      <td>776361BAEcobici</td>\n",
       "      <td>ICONIC</td>\n",
       "      <td>FEMALE</td>\n",
       "    </tr>\n",
       "    <tr>\n",
       "      <th>1</th>\n",
       "      <td>2</td>\n",
       "      <td>2</td>\n",
       "      <td>13268526BAEcobici</td>\n",
       "      <td>545</td>\n",
       "      <td>2022-01-16 17:26:27</td>\n",
       "      <td>51BAEcobici</td>\n",
       "      <td>051 - TUCUMAN</td>\n",
       "      <td>Tucuman &amp; 9 De Julio Av.</td>\n",
       "      <td>-58.382126</td>\n",
       "      <td>-34.601478</td>\n",
       "      <td>2022-01-16 17:35:32</td>\n",
       "      <td>174BAEcobici</td>\n",
       "      <td>174 - MINISTERIO DE EDUCACION</td>\n",
       "      <td>Marcelo T. de Alvear &amp; Rodriguez Peña</td>\n",
       "      <td>-58.391768</td>\n",
       "      <td>-34.597225</td>\n",
       "      <td>776407BAEcobici</td>\n",
       "      <td>ICONIC</td>\n",
       "      <td>MALE</td>\n",
       "    </tr>\n",
       "    <tr>\n",
       "      <th>2</th>\n",
       "      <td>3</td>\n",
       "      <td>3</td>\n",
       "      <td>13268400BAEcobici</td>\n",
       "      <td>2,061</td>\n",
       "      <td>2022-01-16 16:51:12</td>\n",
       "      <td>161BAEcobici</td>\n",
       "      <td>161 - Humahuaca</td>\n",
       "      <td>3912 Humahuaca</td>\n",
       "      <td>-58.419676</td>\n",
       "      <td>-34.602078</td>\n",
       "      <td>2022-01-16 17:25:33</td>\n",
       "      <td>117BAEcobici</td>\n",
       "      <td>117 - HUMBERTO 1°</td>\n",
       "      <td>Peru  1016</td>\n",
       "      <td>-58.374176</td>\n",
       "      <td>-34.620101</td>\n",
       "      <td>671762BAEcobici</td>\n",
       "      <td>ICONIC</td>\n",
       "      <td>FEMALE</td>\n",
       "    </tr>\n",
       "    <tr>\n",
       "      <th>3</th>\n",
       "      <td>4</td>\n",
       "      <td>4</td>\n",
       "      <td>13268164BAEcobici</td>\n",
       "      <td>12,748</td>\n",
       "      <td>2022-01-16 15:58:01</td>\n",
       "      <td>210BAEcobici</td>\n",
       "      <td>335 - General Urquiza</td>\n",
       "      <td>Figueroa Alcorta &amp; Sarmiento</td>\n",
       "      <td>-58.411278</td>\n",
       "      <td>-34.572165</td>\n",
       "      <td>2022-01-16 19:30:29</td>\n",
       "      <td>382BAEcobici</td>\n",
       "      <td>204 - Biarritz</td>\n",
       "      <td>Biarritz 2403</td>\n",
       "      <td>-58.477390</td>\n",
       "      <td>-34.605470</td>\n",
       "      <td>776361BAEcobici</td>\n",
       "      <td>ICONIC</td>\n",
       "      <td>FEMALE</td>\n",
       "    </tr>\n",
       "    <tr>\n",
       "      <th>4</th>\n",
       "      <td>5</td>\n",
       "      <td>5</td>\n",
       "      <td>13270010BAEcobici</td>\n",
       "      <td>4,337</td>\n",
       "      <td>2022-01-16 23:40:09</td>\n",
       "      <td>215BAEcobici</td>\n",
       "      <td>113 - Guatemala</td>\n",
       "      <td>Guatemala 4773</td>\n",
       "      <td>-58.424996</td>\n",
       "      <td>-34.585878</td>\n",
       "      <td>2022-01-17 00:52:26</td>\n",
       "      <td>205BAEcobici</td>\n",
       "      <td>125 - F.J.Santamaria de Oro</td>\n",
       "      <td>F.J.Santamaria de Oro &amp; Guatemala</td>\n",
       "      <td>-58.428016</td>\n",
       "      <td>-34.583323</td>\n",
       "      <td>454615BAEcobici</td>\n",
       "      <td>ICONIC</td>\n",
       "      <td>OTHER</td>\n",
       "    </tr>\n",
       "    <tr>\n",
       "      <th>5</th>\n",
       "      <td>6</td>\n",
       "      <td>6</td>\n",
       "      <td>13269548BAEcobici</td>\n",
       "      <td>4,243</td>\n",
       "      <td>2022-01-16 20:42:30</td>\n",
       "      <td>268BAEcobici</td>\n",
       "      <td>399 - GARCIA DEL RIO</td>\n",
       "      <td>Av. García del Río 3182</td>\n",
       "      <td>-58.477000</td>\n",
       "      <td>-34.550300</td>\n",
       "      <td>2022-01-16 21:53:13</td>\n",
       "      <td>268BAEcobici</td>\n",
       "      <td>399 - GARCIA DEL RIO</td>\n",
       "      <td>Av. García del Río 3182</td>\n",
       "      <td>-58.477000</td>\n",
       "      <td>-34.550300</td>\n",
       "      <td>200959BAEcobici</td>\n",
       "      <td>ICONIC</td>\n",
       "      <td>OTHER</td>\n",
       "    </tr>\n",
       "    <tr>\n",
       "      <th>6</th>\n",
       "      <td>7</td>\n",
       "      <td>7</td>\n",
       "      <td>13268959BAEcobici</td>\n",
       "      <td>932</td>\n",
       "      <td>2022-01-16 18:47:17</td>\n",
       "      <td>278BAEcobici</td>\n",
       "      <td>233 - MONROE</td>\n",
       "      <td>2519 Superi</td>\n",
       "      <td>-58.469813</td>\n",
       "      <td>-34.564122</td>\n",
       "      <td>2022-01-16 19:02:49</td>\n",
       "      <td>236BAEcobici</td>\n",
       "      <td>254 - Plaza Rafael Hernandez</td>\n",
       "      <td>Vuelta de Obligado 2004</td>\n",
       "      <td>-58.455166</td>\n",
       "      <td>-34.562161</td>\n",
       "      <td>823366BAEcobici</td>\n",
       "      <td>ICONIC</td>\n",
       "      <td>FEMALE</td>\n",
       "    </tr>\n",
       "    <tr>\n",
       "      <th>7</th>\n",
       "      <td>8</td>\n",
       "      <td>8</td>\n",
       "      <td>13267669BAEcobici</td>\n",
       "      <td>4,337</td>\n",
       "      <td>2022-01-16 12:55:26</td>\n",
       "      <td>368BAEcobici</td>\n",
       "      <td>378 - AGRONOMIA</td>\n",
       "      <td>4351 San Martin</td>\n",
       "      <td>-58.482079</td>\n",
       "      <td>-34.598070</td>\n",
       "      <td>2022-01-16 14:07:43</td>\n",
       "      <td>368BAEcobici</td>\n",
       "      <td>378 - AGRONOMIA</td>\n",
       "      <td>4351 San Martin</td>\n",
       "      <td>-58.482079</td>\n",
       "      <td>-34.598070</td>\n",
       "      <td>826754BAEcobici</td>\n",
       "      <td>ICONIC</td>\n",
       "      <td>MALE</td>\n",
       "    </tr>\n",
       "    <tr>\n",
       "      <th>8</th>\n",
       "      <td>9</td>\n",
       "      <td>9</td>\n",
       "      <td>13267592BAEcobici</td>\n",
       "      <td>3,735</td>\n",
       "      <td>2022-01-16 12:25:03</td>\n",
       "      <td>382BAEcobici</td>\n",
       "      <td>204 - Biarritz</td>\n",
       "      <td>Biarritz 2403</td>\n",
       "      <td>-58.477390</td>\n",
       "      <td>-34.605470</td>\n",
       "      <td>2022-01-16 13:27:18</td>\n",
       "      <td>5BAEcobici</td>\n",
       "      <td>005 - Plaza Italia</td>\n",
       "      <td>Av. Sarmiento 2601</td>\n",
       "      <td>-58.420954</td>\n",
       "      <td>-34.580550</td>\n",
       "      <td>776361BAEcobici</td>\n",
       "      <td>ICONIC</td>\n",
       "      <td>FEMALE</td>\n",
       "    </tr>\n",
       "    <tr>\n",
       "      <th>9</th>\n",
       "      <td>10</td>\n",
       "      <td>10</td>\n",
       "      <td>13376812BAEcobici</td>\n",
       "      <td>366</td>\n",
       "      <td>2022-01-29 15:13:01</td>\n",
       "      <td>433BAEcobici</td>\n",
       "      <td>273 - Plazoleta Colombia</td>\n",
       "      <td>1619 Brandsen</td>\n",
       "      <td>-58.373726</td>\n",
       "      <td>-34.637697</td>\n",
       "      <td>2022-01-29 15:19:07</td>\n",
       "      <td>6BAEcobici</td>\n",
       "      <td>006 - Parque Lezama</td>\n",
       "      <td>Avenida Martin Garcia, 295</td>\n",
       "      <td>-58.369758</td>\n",
       "      <td>-34.628526</td>\n",
       "      <td>772370BAEcobici</td>\n",
       "      <td>ICONIC</td>\n",
       "      <td>MALE</td>\n",
       "    </tr>\n",
       "  </tbody>\n",
       "</table>\n",
       "</div>"
      ],
      "text/plain": [
       "   Unnamed: 0   X       Id_recorrido duracion_recorrido  \\\n",
       "0           1   1  13267975BAEcobici              2,610   \n",
       "1           2   2  13268526BAEcobici                545   \n",
       "2           3   3  13268400BAEcobici              2,061   \n",
       "3           4   4  13268164BAEcobici             12,748   \n",
       "4           5   5  13270010BAEcobici              4,337   \n",
       "5           6   6  13269548BAEcobici              4,243   \n",
       "6           7   7  13268959BAEcobici                932   \n",
       "7           8   8  13267669BAEcobici              4,337   \n",
       "8           9   9  13267592BAEcobici              3,735   \n",
       "9          10  10  13376812BAEcobici                366   \n",
       "\n",
       "  fecha_origen_recorrido id_estacion_origen    nombre_estacion_origen  \\\n",
       "0    2022-01-16 14:58:42         5BAEcobici        005 - Plaza Italia   \n",
       "1    2022-01-16 17:26:27        51BAEcobici             051 - TUCUMAN   \n",
       "2    2022-01-16 16:51:12       161BAEcobici           161 - Humahuaca   \n",
       "3    2022-01-16 15:58:01       210BAEcobici     335 - General Urquiza   \n",
       "4    2022-01-16 23:40:09       215BAEcobici           113 - Guatemala   \n",
       "5    2022-01-16 20:42:30       268BAEcobici      399 - GARCIA DEL RIO   \n",
       "6    2022-01-16 18:47:17       278BAEcobici              233 - MONROE   \n",
       "7    2022-01-16 12:55:26       368BAEcobici           378 - AGRONOMIA   \n",
       "8    2022-01-16 12:25:03       382BAEcobici            204 - Biarritz   \n",
       "9    2022-01-29 15:13:01       433BAEcobici  273 - Plazoleta Colombia   \n",
       "\n",
       "      direccion_estacion_origen  long_estacion_origen  lat_estacion_origen  \\\n",
       "0            Av. Sarmiento 2601            -58.420954           -34.580550   \n",
       "1      Tucuman & 9 De Julio Av.            -58.382126           -34.601478   \n",
       "2                3912 Humahuaca            -58.419676           -34.602078   \n",
       "3  Figueroa Alcorta & Sarmiento            -58.411278           -34.572165   \n",
       "4                Guatemala 4773            -58.424996           -34.585878   \n",
       "5       Av. García del Río 3182            -58.477000           -34.550300   \n",
       "6                   2519 Superi            -58.469813           -34.564122   \n",
       "7               4351 San Martin            -58.482079           -34.598070   \n",
       "8                 Biarritz 2403            -58.477390           -34.605470   \n",
       "9                 1619 Brandsen            -58.373726           -34.637697   \n",
       "\n",
       "  fecha_destino_recorrido id_estacion_destino        nombre_estacion_destino  \\\n",
       "0     2022-01-16 15:42:12        210BAEcobici          335 - General Urquiza   \n",
       "1     2022-01-16 17:35:32        174BAEcobici  174 - MINISTERIO DE EDUCACION   \n",
       "2     2022-01-16 17:25:33        117BAEcobici              117 - HUMBERTO 1°   \n",
       "3     2022-01-16 19:30:29        382BAEcobici                 204 - Biarritz   \n",
       "4     2022-01-17 00:52:26        205BAEcobici    125 - F.J.Santamaria de Oro   \n",
       "5     2022-01-16 21:53:13        268BAEcobici           399 - GARCIA DEL RIO   \n",
       "6     2022-01-16 19:02:49        236BAEcobici   254 - Plaza Rafael Hernandez   \n",
       "7     2022-01-16 14:07:43        368BAEcobici                378 - AGRONOMIA   \n",
       "8     2022-01-16 13:27:18          5BAEcobici             005 - Plaza Italia   \n",
       "9     2022-01-29 15:19:07          6BAEcobici            006 - Parque Lezama   \n",
       "\n",
       "              direccion_estacion_destino  long_estacion_destino  \\\n",
       "0           Figueroa Alcorta & Sarmiento             -58.411278   \n",
       "1  Marcelo T. de Alvear & Rodriguez Peña             -58.391768   \n",
       "2                             Peru  1016             -58.374176   \n",
       "3                          Biarritz 2403             -58.477390   \n",
       "4      F.J.Santamaria de Oro & Guatemala             -58.428016   \n",
       "5                Av. García del Río 3182             -58.477000   \n",
       "6                Vuelta de Obligado 2004             -58.455166   \n",
       "7                        4351 San Martin             -58.482079   \n",
       "8                     Av. Sarmiento 2601             -58.420954   \n",
       "9             Avenida Martin Garcia, 295             -58.369758   \n",
       "\n",
       "   lat_estacion_destino       id_usuario modelo_bicicleta  Género  \n",
       "0            -34.572165  776361BAEcobici           ICONIC  FEMALE  \n",
       "1            -34.597225  776407BAEcobici           ICONIC    MALE  \n",
       "2            -34.620101  671762BAEcobici           ICONIC  FEMALE  \n",
       "3            -34.605470  776361BAEcobici           ICONIC  FEMALE  \n",
       "4            -34.583323  454615BAEcobici           ICONIC   OTHER  \n",
       "5            -34.550300  200959BAEcobici           ICONIC   OTHER  \n",
       "6            -34.562161  823366BAEcobici           ICONIC  FEMALE  \n",
       "7            -34.598070  826754BAEcobici           ICONIC    MALE  \n",
       "8            -34.580550  776361BAEcobici           ICONIC  FEMALE  \n",
       "9            -34.628526  772370BAEcobici           ICONIC    MALE  "
      ]
     },
     "execution_count": 7,
     "metadata": {},
     "output_type": "execute_result"
    }
   ],
   "source": [
    "rides.head(10)"
   ]
  },
  {
   "cell_type": "code",
   "execution_count": 8,
   "metadata": {},
   "outputs": [
    {
     "data": {
      "text/plain": [
       "(2922805, 19)"
      ]
     },
     "execution_count": 8,
     "metadata": {},
     "output_type": "execute_result"
    }
   ],
   "source": [
    "rides.shape"
   ]
  },
  {
   "cell_type": "code",
   "execution_count": 9,
   "metadata": {},
   "outputs": [
    {
     "data": {
      "text/plain": [
       "331"
      ]
     },
     "execution_count": 9,
     "metadata": {},
     "output_type": "execute_result"
    }
   ],
   "source": [
    "rides.id_estacion_origen.nunique()"
   ]
  },
  {
   "cell_type": "code",
   "execution_count": 12,
   "metadata": {},
   "outputs": [],
   "source": [
    "#We keep only the columns that interest us and we rename them\n",
    "rides = rides[[\"fecha_origen_recorrido\",\"id_estacion_origen\"]]\n",
    "## Remove the \"BAEcobici\" part and convert to int type\n",
    "rides['id_estacion_origen'] = rides['id_estacion_origen'].str.replace('BAEcobici', '').astype(int)\n",
    "## Rename columns\n",
    "rides.rename(columns={\"fecha_origen_recorrido\":\"pickup_datetime\",\"id_estacion_origen\":\"pickup_location_id\"},inplace=True)"
   ]
  },
  {
   "cell_type": "code",
   "execution_count": 14,
   "metadata": {},
   "outputs": [],
   "source": [
    "rides[\"pickup_datetime\"] = pd.to_datetime(rides[\"pickup_datetime\"], format='%Y-%m-%d %H:%M:%S')\n"
   ]
  },
  {
   "cell_type": "code",
   "execution_count": 15,
   "metadata": {},
   "outputs": [
    {
     "data": {
      "text/html": [
       "<div>\n",
       "<style scoped>\n",
       "    .dataframe tbody tr th:only-of-type {\n",
       "        vertical-align: middle;\n",
       "    }\n",
       "\n",
       "    .dataframe tbody tr th {\n",
       "        vertical-align: top;\n",
       "    }\n",
       "\n",
       "    .dataframe thead th {\n",
       "        text-align: right;\n",
       "    }\n",
       "</style>\n",
       "<table border=\"1\" class=\"dataframe\">\n",
       "  <thead>\n",
       "    <tr style=\"text-align: right;\">\n",
       "      <th></th>\n",
       "      <th>pickup_datetime</th>\n",
       "      <th>pickup_location_id</th>\n",
       "    </tr>\n",
       "  </thead>\n",
       "  <tbody>\n",
       "    <tr>\n",
       "      <th>0</th>\n",
       "      <td>2022-01-16 14:58:42</td>\n",
       "      <td>5</td>\n",
       "    </tr>\n",
       "    <tr>\n",
       "      <th>1</th>\n",
       "      <td>2022-01-16 17:26:27</td>\n",
       "      <td>51</td>\n",
       "    </tr>\n",
       "    <tr>\n",
       "      <th>2</th>\n",
       "      <td>2022-01-16 16:51:12</td>\n",
       "      <td>161</td>\n",
       "    </tr>\n",
       "    <tr>\n",
       "      <th>3</th>\n",
       "      <td>2022-01-16 15:58:01</td>\n",
       "      <td>210</td>\n",
       "    </tr>\n",
       "    <tr>\n",
       "      <th>4</th>\n",
       "      <td>2022-01-16 23:40:09</td>\n",
       "      <td>215</td>\n",
       "    </tr>\n",
       "    <tr>\n",
       "      <th>5</th>\n",
       "      <td>2022-01-16 20:42:30</td>\n",
       "      <td>268</td>\n",
       "    </tr>\n",
       "    <tr>\n",
       "      <th>6</th>\n",
       "      <td>2022-01-16 18:47:17</td>\n",
       "      <td>278</td>\n",
       "    </tr>\n",
       "    <tr>\n",
       "      <th>7</th>\n",
       "      <td>2022-01-16 12:55:26</td>\n",
       "      <td>368</td>\n",
       "    </tr>\n",
       "    <tr>\n",
       "      <th>8</th>\n",
       "      <td>2022-01-16 12:25:03</td>\n",
       "      <td>382</td>\n",
       "    </tr>\n",
       "    <tr>\n",
       "      <th>9</th>\n",
       "      <td>2022-01-29 15:13:01</td>\n",
       "      <td>433</td>\n",
       "    </tr>\n",
       "  </tbody>\n",
       "</table>\n",
       "</div>"
      ],
      "text/plain": [
       "      pickup_datetime  pickup_location_id\n",
       "0 2022-01-16 14:58:42                   5\n",
       "1 2022-01-16 17:26:27                  51\n",
       "2 2022-01-16 16:51:12                 161\n",
       "3 2022-01-16 15:58:01                 210\n",
       "4 2022-01-16 23:40:09                 215\n",
       "5 2022-01-16 20:42:30                 268\n",
       "6 2022-01-16 18:47:17                 278\n",
       "7 2022-01-16 12:55:26                 368\n",
       "8 2022-01-16 12:25:03                 382\n",
       "9 2022-01-29 15:13:01                 433"
      ]
     },
     "execution_count": 15,
     "metadata": {},
     "output_type": "execute_result"
    }
   ],
   "source": [
    "rides.head(10)"
   ]
  },
  {
   "cell_type": "code",
   "execution_count": 16,
   "metadata": {},
   "outputs": [
    {
     "data": {
      "text/plain": [
       "331"
      ]
     },
     "execution_count": 16,
     "metadata": {},
     "output_type": "execute_result"
    }
   ],
   "source": [
    "rides.pickup_location_id.nunique()"
   ]
  },
  {
   "cell_type": "code",
   "execution_count": 17,
   "metadata": {},
   "outputs": [
    {
     "data": {
      "text/plain": [
       "count                          2922805\n",
       "mean     2022-07-10 15:35:32.911203840\n",
       "min                2022-01-01 00:11:07\n",
       "25%                2022-04-06 20:58:08\n",
       "50%                2022-07-20 11:28:05\n",
       "75%                2022-10-11 21:37:32\n",
       "max                2022-12-31 23:55:39\n",
       "Name: pickup_datetime, dtype: object"
      ]
     },
     "execution_count": 17,
     "metadata": {},
     "output_type": "execute_result"
    }
   ],
   "source": [
    "rides[\"pickup_datetime\"].describe()"
   ]
  },
  {
   "cell_type": "code",
   "execution_count": 19,
   "metadata": {},
   "outputs": [
    {
     "data": {
      "text/plain": [
       "count                          2922805\n",
       "mean     2022-07-10 15:35:32.911203840\n",
       "min                2022-01-01 00:11:07\n",
       "25%                2022-04-06 20:58:08\n",
       "50%                2022-07-20 11:28:05\n",
       "75%                2022-10-11 21:37:32\n",
       "max                2022-12-31 23:55:39\n",
       "Name: pickup_datetime, dtype: object"
      ]
     },
     "execution_count": 19,
     "metadata": {},
     "output_type": "execute_result"
    }
   ],
   "source": [
    "rides = rides[rides.pickup_datetime >= '2022-01-01']\n",
    "rides = rides[rides.pickup_datetime < '2023-01-01']\n",
    "rides[\"pickup_datetime\"].describe()"
   ]
  },
  {
   "cell_type": "code",
   "execution_count": 22,
   "metadata": {},
   "outputs": [],
   "source": [
    "rides.to_parquet(\"../data/transformed/validated_rides_2022.parquet\")"
   ]
  }
 ],
 "metadata": {
  "kernelspec": {
   "display_name": ".venv",
   "language": "python",
   "name": "python3"
  },
  "language_info": {
   "codemirror_mode": {
    "name": "ipython",
    "version": 3
   },
   "file_extension": ".py",
   "mimetype": "text/x-python",
   "name": "python",
   "nbconvert_exporter": "python",
   "pygments_lexer": "ipython3",
   "version": "3.9.6"
  }
 },
 "nbformat": 4,
 "nbformat_minor": 2
}
